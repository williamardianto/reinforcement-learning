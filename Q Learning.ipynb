{
 "cells": [
  {
   "cell_type": "code",
   "execution_count": 9,
   "metadata": {},
   "outputs": [],
   "source": [
    "import numpy as np\n",
    "import gym\n",
    "import torch"
   ]
  },
  {
   "cell_type": "code",
   "execution_count": 14,
   "metadata": {},
   "outputs": [],
   "source": [
    "env = gym.make('Taxi-v2').env"
   ]
  },
  {
   "cell_type": "code",
   "execution_count": 15,
   "metadata": {},
   "outputs": [
    {
     "name": "stdout",
     "output_type": "stream",
     "text": [
      "248\n",
      "248\n",
      "+---------+\n",
      "|\u001b[35mR\u001b[0m: | : :G|\n",
      "| : : : : |\n",
      "| : :\u001b[43m \u001b[0m: : |\n",
      "| | : | : |\n",
      "|\u001b[34;1mY\u001b[0m| : |B: |\n",
      "+---------+\n",
      "\n"
     ]
    }
   ],
   "source": [
    "# to reset environment\n",
    "print(env.reset())\n",
    "\n",
    "# current state\n",
    "print(env.s)\n",
    "\n",
    "env.render()"
   ]
  },
  {
   "cell_type": "code",
   "execution_count": 26,
   "metadata": {},
   "outputs": [
    {
     "name": "stdout",
     "output_type": "stream",
     "text": [
      "Action Space: 6\n",
      "State Space: 500\n"
     ]
    }
   ],
   "source": [
    "print('Action Space: {}'.format(env.action_space.n))\n",
    "print('State Space: {}'.format(env.observation_space.n))\n"
   ]
  },
  {
   "cell_type": "code",
   "execution_count": 21,
   "metadata": {},
   "outputs": [
    {
     "data": {
      "text/plain": [
       "{0: [(1.0, 101, -1, False)],\n",
       " 1: [(1.0, 1, -1, False)],\n",
       " 2: [(1.0, 21, -1, False)],\n",
       " 3: [(1.0, 1, -1, False)],\n",
       " 4: [(1.0, 17, -1, False)],\n",
       " 5: [(1.0, 1, -10, False)]}"
      ]
     },
     "execution_count": 21,
     "metadata": {},
     "output_type": "execute_result"
    }
   ],
   "source": [
    "# action table\n",
    "\n",
    "# output = {action: [(probability, nextstate, reward, done)]}\n",
    "# 0 = south \n",
    "# 1 = north \n",
    "# 2 = east \n",
    "# 3 = west \n",
    "# 4 = pickup \n",
    "# 5 = dropoff\n",
    "\n",
    "env.P[1]"
   ]
  },
  {
   "cell_type": "code",
   "execution_count": 18,
   "metadata": {},
   "outputs": [
    {
     "data": {
      "text/plain": [
       "4"
      ]
     },
     "execution_count": 18,
     "metadata": {},
     "output_type": "execute_result"
    }
   ],
   "source": [
    "# generate random action\n",
    "env.action_space.sample()"
   ]
  },
  {
   "cell_type": "code",
   "execution_count": 19,
   "metadata": {},
   "outputs": [
    {
     "data": {
      "text/plain": [
       "(148, -1, False, {'prob': 1.0})"
      ]
     },
     "execution_count": 19,
     "metadata": {},
     "output_type": "execute_result"
    }
   ],
   "source": [
    "# step with action \n",
    "# output = (next state, reward, done, probability)\n",
    "env.step(1)"
   ]
  },
  {
   "cell_type": "code",
   "execution_count": 82,
   "metadata": {},
   "outputs": [],
   "source": [
    "class QLearning():\n",
    "    def __init__(self, env, alpha=0.1, gamma=0.6, epsilon=0.1):\n",
    "        self.env = env\n",
    "        self.alpha = alpha # learning rate\n",
    "        self.gamma = gamma # discount factor\n",
    "        self.epsilon = epsilon # explore or exploit \n",
    "        self.q_table = np.zeros([env.observation_space.n, env.action_space.n])\n",
    "        self.timesteps = []\n",
    "    \n",
    "    def train(self, iterations=1000):\n",
    "        for i in range(iterations):\n",
    "            state = self.env.reset()\n",
    "            \n",
    "            done = False\n",
    "            timestep = 0\n",
    "            \n",
    "            while not done:\n",
    "                if np.random.uniform(0,1) < self.epsilon:\n",
    "                    action = self.env.action_space.sample() # Explore action space\n",
    "                else:\n",
    "                    action = np.argmax(self.q_table[state,:]) # Exploit learned values\n",
    "                    \n",
    "                next_state, reward, done, prob = self.env.step(action)\n",
    "                \n",
    "                current_val = self.q_table[state,action]\n",
    "                next_max = np.max(self.q_table[next_state,:])\n",
    "                \n",
    "                self.q_table[state, action] = (1 - self.alpha) * current_val + self.alpha * (reward + self.gamma * next_max)\n",
    "                \n",
    "                state = next_state\n",
    "                timestep += 1\n",
    "            \n",
    "            self.timesteps.append(timestep)\n",
    "            \n",
    "    def eval(self, episodes=1000):\n",
    "        total_timestep = 0\n",
    "\n",
    "        for i in range(episodes):\n",
    "            state = self.env.reset()\n",
    "            \n",
    "            done = False\n",
    "            timestep = 0\n",
    "\n",
    "            while not done:\n",
    "                action = np.argmax(self.q_table[state,:])\n",
    "                state, reward, done, info = self.env.step(action)\n",
    "\n",
    "                timestep += 1\n",
    "\n",
    "            total_timestep += timestep\n",
    "#             print('Episode %d: %d'%(i+1, timestep))\n",
    "        return total_timestep/episodes\n",
    "            \n",
    "                "
   ]
  },
  {
   "cell_type": "code",
   "execution_count": 83,
   "metadata": {},
   "outputs": [],
   "source": [
    "agent = QLearning(env)\n",
    "agent.train(100000)"
   ]
  },
  {
   "cell_type": "code",
   "execution_count": 84,
   "metadata": {
    "scrolled": true
   },
   "outputs": [
    {
     "name": "stdout",
     "output_type": "stream",
     "text": [
      "Episode 1: 18\n",
      "Episode 2: 10\n",
      "Episode 3: 18\n",
      "Episode 4: 12\n",
      "Episode 5: 15\n",
      "Episode 6: 11\n",
      "Episode 7: 15\n",
      "Episode 8: 16\n",
      "Episode 9: 15\n",
      "Episode 10: 7\n",
      "Episode 11: 12\n",
      "Episode 12: 13\n",
      "Episode 13: 16\n",
      "Episode 14: 13\n",
      "Episode 15: 13\n",
      "Episode 16: 13\n",
      "Episode 17: 11\n",
      "Episode 18: 11\n",
      "Episode 19: 12\n",
      "Episode 20: 10\n",
      "Episode 21: 14\n",
      "Episode 22: 11\n",
      "Episode 23: 14\n",
      "Episode 24: 11\n",
      "Episode 25: 10\n",
      "Episode 26: 8\n",
      "Episode 27: 12\n",
      "Episode 28: 16\n",
      "Episode 29: 14\n",
      "Episode 30: 14\n",
      "Episode 31: 16\n",
      "Episode 32: 11\n",
      "Episode 33: 15\n",
      "Episode 34: 11\n",
      "Episode 35: 7\n",
      "Episode 36: 11\n",
      "Episode 37: 15\n",
      "Episode 38: 17\n",
      "Episode 39: 16\n",
      "Episode 40: 11\n",
      "Episode 41: 12\n",
      "Episode 42: 13\n",
      "Episode 43: 9\n",
      "Episode 44: 12\n",
      "Episode 45: 11\n",
      "Episode 46: 15\n",
      "Episode 47: 12\n",
      "Episode 48: 12\n",
      "Episode 49: 13\n",
      "Episode 50: 11\n",
      "Episode 51: 13\n",
      "Episode 52: 9\n",
      "Episode 53: 12\n",
      "Episode 54: 11\n",
      "Episode 55: 15\n",
      "Episode 56: 14\n",
      "Episode 57: 11\n",
      "Episode 58: 14\n",
      "Episode 59: 11\n",
      "Episode 60: 11\n",
      "Episode 61: 14\n",
      "Episode 62: 14\n",
      "Episode 63: 10\n",
      "Episode 64: 13\n",
      "Episode 65: 14\n",
      "Episode 66: 10\n",
      "Episode 67: 13\n",
      "Episode 68: 13\n",
      "Episode 69: 13\n",
      "Episode 70: 17\n",
      "Episode 71: 13\n",
      "Episode 72: 14\n",
      "Episode 73: 11\n",
      "Episode 74: 12\n",
      "Episode 75: 15\n",
      "Episode 76: 13\n",
      "Episode 77: 12\n",
      "Episode 78: 11\n",
      "Episode 79: 9\n",
      "Episode 80: 14\n",
      "Episode 81: 13\n",
      "Episode 82: 9\n",
      "Episode 83: 12\n",
      "Episode 84: 15\n",
      "Episode 85: 12\n",
      "Episode 86: 10\n",
      "Episode 87: 14\n",
      "Episode 88: 14\n",
      "Episode 89: 13\n",
      "Episode 90: 11\n",
      "Episode 91: 13\n",
      "Episode 92: 12\n",
      "Episode 93: 13\n",
      "Episode 94: 12\n",
      "Episode 95: 15\n",
      "Episode 96: 10\n",
      "Episode 97: 7\n",
      "Episode 98: 14\n",
      "Episode 99: 13\n",
      "Episode 100: 9\n"
     ]
    },
    {
     "data": {
      "text/plain": [
       "12.52"
      ]
     },
     "execution_count": 84,
     "metadata": {},
     "output_type": "execute_result"
    }
   ],
   "source": [
    "agent.eval(100)\n"
   ]
  },
  {
   "cell_type": "code",
   "execution_count": null,
   "metadata": {},
   "outputs": [],
   "source": []
  },
  {
   "cell_type": "code",
   "execution_count": null,
   "metadata": {},
   "outputs": [],
   "source": []
  }
 ],
 "metadata": {
  "kernelspec": {
   "display_name": "Python 3",
   "language": "python",
   "name": "python3"
  },
  "language_info": {
   "codemirror_mode": {
    "name": "ipython",
    "version": 3
   },
   "file_extension": ".py",
   "mimetype": "text/x-python",
   "name": "python",
   "nbconvert_exporter": "python",
   "pygments_lexer": "ipython3",
   "version": "3.6.7"
  }
 },
 "nbformat": 4,
 "nbformat_minor": 2
}
