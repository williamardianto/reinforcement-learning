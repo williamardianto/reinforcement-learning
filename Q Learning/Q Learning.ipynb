{
 "cells": [
  {
   "cell_type": "code",
   "execution_count": 28,
   "metadata": {},
   "outputs": [],
   "source": [
    "import numpy as np\n",
    "import gym\n",
    "import warnings\n",
    "from IPython.display import clear_output\n",
    "import time\n",
    "warnings.filterwarnings('ignore')\n"
   ]
  },
  {
   "cell_type": "code",
   "execution_count": 2,
   "metadata": {},
   "outputs": [],
   "source": [
    "env = gym.make('Taxi-v2').env"
   ]
  },
  {
   "cell_type": "code",
   "execution_count": 3,
   "metadata": {},
   "outputs": [
    {
     "name": "stdout",
     "output_type": "stream",
     "text": [
      "301\n",
      "301\n",
      "+---------+\n",
      "|\u001b[34;1mR\u001b[0m: | : :\u001b[35mG\u001b[0m|\n",
      "| : : : : |\n",
      "| : : : : |\n",
      "|\u001b[43m \u001b[0m| : | : |\n",
      "|Y| : |B: |\n",
      "+---------+\n",
      "\n"
     ]
    }
   ],
   "source": [
    "# to reset environment\n",
    "print(env.reset())\n",
    "\n",
    "# current state\n",
    "print(env.s)\n",
    "\n",
    "env.render()"
   ]
  },
  {
   "cell_type": "code",
   "execution_count": 4,
   "metadata": {},
   "outputs": [
    {
     "name": "stdout",
     "output_type": "stream",
     "text": [
      "Action Space: 6\n",
      "State Space: 500\n"
     ]
    }
   ],
   "source": [
    "print('Action Space: {}'.format(env.action_space.n))\n",
    "print('State Space: {}'.format(env.observation_space.n))\n"
   ]
  },
  {
   "cell_type": "code",
   "execution_count": 5,
   "metadata": {},
   "outputs": [
    {
     "data": {
      "text/plain": [
       "{0: [(1.0, 101, -1, False)],\n",
       " 1: [(1.0, 1, -1, False)],\n",
       " 2: [(1.0, 21, -1, False)],\n",
       " 3: [(1.0, 1, -1, False)],\n",
       " 4: [(1.0, 17, -1, False)],\n",
       " 5: [(1.0, 1, -10, False)]}"
      ]
     },
     "execution_count": 5,
     "metadata": {},
     "output_type": "execute_result"
    }
   ],
   "source": [
    "# action table\n",
    "\n",
    "# output = {action: [(probability, nextstate, reward, done)]}\n",
    "# 0 = south \n",
    "# 1 = north \n",
    "# 2 = east \n",
    "# 3 = west \n",
    "# 4 = pickup \n",
    "# 5 = dropoff\n",
    "\n",
    "env.P[1]"
   ]
  },
  {
   "cell_type": "code",
   "execution_count": 6,
   "metadata": {},
   "outputs": [
    {
     "data": {
      "text/plain": [
       "4"
      ]
     },
     "execution_count": 6,
     "metadata": {},
     "output_type": "execute_result"
    }
   ],
   "source": [
    "# generate random action\n",
    "env.action_space.sample()"
   ]
  },
  {
   "cell_type": "code",
   "execution_count": 7,
   "metadata": {},
   "outputs": [
    {
     "data": {
      "text/plain": [
       "(201, -1, False, {'prob': 1.0})"
      ]
     },
     "execution_count": 7,
     "metadata": {},
     "output_type": "execute_result"
    }
   ],
   "source": [
    "# step with action \n",
    "# output = (next state, reward, done, probability)\n",
    "env.step(1)"
   ]
  },
  {
   "cell_type": "code",
   "execution_count": 54,
   "metadata": {},
   "outputs": [],
   "source": [
    "class QLearning():\n",
    "    def __init__(self, env, alpha=0.1, gamma=0.6, epsilon=0.1):\n",
    "        self.env = env\n",
    "        self.alpha = alpha # learning rate\n",
    "        self.gamma = gamma # discount factor\n",
    "        self.epsilon = epsilon # explore or exploit \n",
    "        self.q_table = np.zeros([env.observation_space.n, env.action_space.n])\n",
    "        self.timesteps = []\n",
    "    \n",
    "    def run_episode(self, training=False):\n",
    "        timestep = 0\n",
    "        frames = []\n",
    "        state = self.env.reset()\n",
    "        done = False\n",
    "\n",
    "        while not done:\n",
    "            if training:\n",
    "                if np.random.uniform(0,1) < self.epsilon:\n",
    "                    action = self.env.action_space.sample() # Explore action space\n",
    "                else:\n",
    "                    action = np.argmax(self.q_table[state]) # Exploit learned values\n",
    "                    \n",
    "                current_val = self.q_table[state,action]\n",
    "                next_state, reward, done, prob = self.env.step(action)\n",
    "                next_max = np.max(self.q_table[next_state,:])\n",
    "                self.q_table[state, action] = (1 - self.alpha) * current_val + self.alpha * (reward + self.gamma * next_max)\n",
    "                state = next_state\n",
    "                \n",
    "            else:\n",
    "                action = np.argmax(self.q_table[state])\n",
    "                state, reward, done, prob = self.env.step(action)\n",
    "\n",
    "            timestep += 1\n",
    "            frames.append(self.env.render(mode='ansi'))\n",
    "        return timestep, frames\n",
    "    \n",
    "    def train(self, iterations=1000, print_every=1000):\n",
    "        for i in range(iterations):\n",
    "            timestep, _ = self.run_episode(training=True)\n",
    "            self.timesteps.append(timestep)\n",
    "            if (i + 1) % print_every == 0:\n",
    "                print('iter %d. timestep: %.2f' % (i + 1, timestep))\n",
    "            \n",
    "    def eval(self, episodes=100, print_every=10):\n",
    "        total_timestep = 0\n",
    "\n",
    "        for i in range(episodes):\n",
    "            timestep, _ = self.run_episode()\n",
    "            total_timestep += timestep\n",
    "            if (i + 1) % print_every == 0:\n",
    "                print('iter %d. timestep: %.2f' % (i + 1, timestep))\n",
    "        return total_timestep/episodes\n",
    "\n",
    "    def run_sample(self):\n",
    "        timestep, frames = self.run_episode()\n",
    "        for i, frame in enumerate(frames):\n",
    "            clear_output(wait=True)\n",
    "            print(frame.getvalue())\n",
    "            time.sleep(.5)\n",
    "                "
   ]
  },
  {
   "cell_type": "code",
   "execution_count": 57,
   "metadata": {},
   "outputs": [
    {
     "name": "stdout",
     "output_type": "stream",
     "text": [
      "iter 1000. timestep: 19.00\n",
      "iter 2000. timestep: 14.00\n",
      "iter 3000. timestep: 18.00\n",
      "iter 4000. timestep: 13.00\n",
      "iter 5000. timestep: 18.00\n",
      "iter 6000. timestep: 11.00\n",
      "iter 7000. timestep: 14.00\n",
      "iter 8000. timestep: 21.00\n",
      "iter 9000. timestep: 18.00\n",
      "iter 10000. timestep: 10.00\n",
      "iter 11000. timestep: 14.00\n",
      "iter 12000. timestep: 16.00\n",
      "iter 13000. timestep: 11.00\n",
      "iter 14000. timestep: 15.00\n",
      "iter 15000. timestep: 15.00\n",
      "iter 16000. timestep: 15.00\n",
      "iter 17000. timestep: 18.00\n",
      "iter 18000. timestep: 10.00\n",
      "iter 19000. timestep: 15.00\n",
      "iter 20000. timestep: 11.00\n",
      "iter 21000. timestep: 19.00\n",
      "iter 22000. timestep: 17.00\n",
      "iter 23000. timestep: 14.00\n",
      "iter 24000. timestep: 14.00\n",
      "iter 25000. timestep: 13.00\n",
      "iter 26000. timestep: 13.00\n",
      "iter 27000. timestep: 10.00\n",
      "iter 28000. timestep: 16.00\n",
      "iter 29000. timestep: 9.00\n",
      "iter 30000. timestep: 15.00\n"
     ]
    }
   ],
   "source": [
    "agent = QLearning(env)\n",
    "agent.train(30000)"
   ]
  },
  {
   "cell_type": "code",
   "execution_count": 58,
   "metadata": {
    "scrolled": true
   },
   "outputs": [
    {
     "name": "stdout",
     "output_type": "stream",
     "text": [
      "iter 10. timestep: 8.00\n",
      "iter 20. timestep: 16.00\n",
      "iter 30. timestep: 10.00\n",
      "iter 40. timestep: 16.00\n",
      "iter 50. timestep: 11.00\n",
      "iter 60. timestep: 14.00\n",
      "iter 70. timestep: 11.00\n",
      "iter 80. timestep: 13.00\n",
      "iter 90. timestep: 11.00\n",
      "iter 100. timestep: 14.00\n",
      "Average timesteps: 12\n"
     ]
    }
   ],
   "source": [
    "avg_timesteps = agent.eval(100)\n",
    "print('Average timesteps: %d'%(avg_timesteps))"
   ]
  },
  {
   "cell_type": "code",
   "execution_count": 60,
   "metadata": {},
   "outputs": [
    {
     "name": "stdout",
     "output_type": "stream",
     "text": [
      "+---------+\n",
      "|R: | : :\u001b[35m\u001b[42mG\u001b[0m\u001b[0m|\n",
      "| : : : : |\n",
      "| : : : : |\n",
      "| | : | : |\n",
      "|Y| : |B: |\n",
      "+---------+\n",
      "  (Dropoff)\n",
      "\n"
     ]
    }
   ],
   "source": [
    "agent.run_sample()"
   ]
  },
  {
   "cell_type": "code",
   "execution_count": null,
   "metadata": {},
   "outputs": [],
   "source": []
  }
 ],
 "metadata": {
  "kernelspec": {
   "display_name": "Python 3",
   "language": "python",
   "name": "python3"
  },
  "language_info": {
   "codemirror_mode": {
    "name": "ipython",
    "version": 3
   },
   "file_extension": ".py",
   "mimetype": "text/x-python",
   "name": "python",
   "nbconvert_exporter": "python",
   "pygments_lexer": "ipython3",
   "version": "3.6.7"
  }
 },
 "nbformat": 4,
 "nbformat_minor": 2
}
