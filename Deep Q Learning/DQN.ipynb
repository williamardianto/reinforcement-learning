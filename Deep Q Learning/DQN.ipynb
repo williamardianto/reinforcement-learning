{
 "cells": [
  {
   "cell_type": "code",
   "execution_count": 1,
   "metadata": {},
   "outputs": [],
   "source": [
    "# install pygame\n",
    "# pip install pygame\n",
    "\n",
    "# install ple\n",
    "# git clone https://github.com/ntasfi/PyGame-Learning-Environment.git\n",
    "# cd PyGame-Learning-Environment/\n",
    "# pip install -e .\n",
    "\n",
    "# install gym_ple\n",
    "# pip install gym_ple\n",
    "\n"
   ]
  },
  {
   "cell_type": "code",
   "execution_count": 29,
   "metadata": {},
   "outputs": [
    {
     "data": {
      "text/plain": [
       "'0.4.1'"
      ]
     },
     "execution_count": 29,
     "metadata": {},
     "output_type": "execute_result"
    }
   ],
   "source": [
    "%matplotlib inline\n",
    "from Utils import Environment, Memory\n",
    "import os\n",
    " \n",
    "import matplotlib\n",
    "from matplotlib.pyplot import imshow, show\n",
    "from collections import deque\n",
    "import numpy as np\n",
    "\n",
    "import torch\n",
    "import torch.nn as nn\n",
    "import torch.optim as optim\n",
    "import torch.nn.functional as F\n",
    "import torchvision.transforms as T\n",
    "\n",
    "import warnings\n",
    "warnings.filterwarnings('ignore')\n",
    "    \n",
    "device = torch.device(\"cuda\" if torch.cuda.is_available() else \"cpu\")\n",
    "\n",
    "torch.__version__"
   ]
  },
  {
   "cell_type": "code",
   "execution_count": 2,
   "metadata": {},
   "outputs": [
    {
     "name": "stdout",
     "output_type": "stream",
     "text": [
      "\u001b[33mWARN: Environment '<class 'gym_ple.ple_env.PLEEnv'>' has deprecated methods '_step' and '_reset' rather than 'step' and 'reset'. Compatibility code invoked. Set _gym_disable_underscore_compat = True to disable this behavior.\u001b[0m\n"
     ]
    },
    {
     "data": {
      "text/plain": [
       "(2, Box(512, 288, 3))"
      ]
     },
     "execution_count": 2,
     "metadata": {},
     "output_type": "execute_result"
    }
   ],
   "source": [
    "env = Environment()\n",
    "env.action_space, env.observation_space"
   ]
  },
  {
   "cell_type": "code",
   "execution_count": 12,
   "metadata": {},
   "outputs": [
    {
     "data": {
      "text/plain": [
       "<matplotlib.image.AxesImage at 0x1c272eda90>"
      ]
     },
     "execution_count": 12,
     "metadata": {},
     "output_type": "execute_result"
    },
    {
     "data": {
      "image/png": "[encoded data removed]",
      "text/plain": [
       "<Figure size 432x288 with 1 Axes>"
      ]
     },
     "metadata": {},
     "output_type": "display_data"
    }
   ],
   "source": [
    "env.init()\n",
    "env.step(1)\n",
    "imshow(env.get_screen())"
   ]
  },
  {
   "cell_type": "code",
   "execution_count": 3,
   "metadata": {},
   "outputs": [],
   "source": [
    "class DQN(nn.Module):\n",
    "    def __init__(self):\n",
    "        super(DQN, self).__init__()\n",
    "        self.conv1 = nn.Sequential(\n",
    "            nn.Conv2d(4, 32, kernel_size=8, stride=4),\n",
    "            nn.BatchNorm2d(32),\n",
    "            nn.ReLU()\n",
    "        )\n",
    "        self.conv2 = nn.Sequential(\n",
    "            nn.Conv2d(32, 64, kernel_size=4, stride=2),\n",
    "            nn.BatchNorm2d(64),\n",
    "            nn.ReLU()\n",
    "        )\n",
    "        self.conv3 = nn.Sequential(\n",
    "            nn.Conv2d(64, 64, kernel_size=3, stride=1),\n",
    "            nn.BatchNorm2d(64),\n",
    "            nn.ReLU()\n",
    "        )\n",
    "        self.fc1 = nn.Sequential(\n",
    "            nn.Linear(3136, 512),\n",
    "            nn.ReLU()\n",
    "        )\n",
    "        self.fc2 = nn.Linear(512, 2)\n",
    "    \n",
    "    def forward(self, x):\n",
    "        x = self.conv1(x)\n",
    "        x = self.conv2(x)\n",
    "        x = self.conv3(x)\n",
    "        x = self.fc1(x.view(x.size(0), -1))\n",
    "        return self.fc2(x)"
   ]
  },
  {
   "cell_type": "code",
   "execution_count": 25,
   "metadata": {},
   "outputs": [],
   "source": [
    "class Agent(object):\n",
    "    def __init__(self):\n",
    "        self.env = Environment()\n",
    "        self.dqn = DQN().to(device)\n",
    "        self.target = DQN().to(device)\n",
    "        self.target.load_state_dict(self.dqn.state_dict())\n",
    "        self.target.eval()\n",
    "        self.target_update_interval = 1000\n",
    "#         self.optimizer = optim.RMSprop(self.dqn.parameters())\n",
    "        self.optimizer = optim.Adam(self.dqn.parameters(), lr=0.0001)\n",
    "        \n",
    "        #play params\n",
    "        self.play_interval = 1000\n",
    "        self.play_repeat = 1\n",
    "        self.best_steps_done = 0\n",
    "        self.best_score = -1000\n",
    "        \n",
    "        self.seed = 111\n",
    "        self.gamma = 0.99\n",
    "        self.epsilon_start = 1.0\n",
    "        self.epsilon_decay = 100000\n",
    "        self.epsilon_stop = 0.01\n",
    "        self.batch_size = 32\n",
    "#         self.max_step = 1000\n",
    "        self.global_steps = 0\n",
    "        \n",
    "        self.memory = Memory(50000, batch_size=self.batch_size)\n",
    "\n",
    "        self.frame_skipping = 4\n",
    "        self.state_buffer_size = 4\n",
    "        self.state_buffer = deque(maxlen=self.state_buffer_size)\n",
    "        \n",
    "    def save_checkpoint(self, filename='checkpoints/checkpoint.pth'):\n",
    "        dirpath = os.path.dirname(filename)\n",
    "\n",
    "        if not os.path.exists(dirpath):\n",
    "            os.mkdir(dirpath)\n",
    "\n",
    "        checkpoint = {\n",
    "            'dqn': self.dqn.state_dict(),\n",
    "            'target': self.target.state_dict(),\n",
    "            'optimizer': self.optimizer.state_dict(),\n",
    "            'global_steps': self.global_steps,\n",
    "            'best_score': self.best_score,\n",
    "            'best_steps_done': self.best_steps_done\n",
    "        }\n",
    "        torch.save(checkpoint, filename)\n",
    "        \n",
    "    def load_checkpoint(self, filename='checkpoints/checkpoint.pth'):\n",
    "        checkpoint = torch.load(filename, map_location=device.type)\n",
    "        self.dqn.load_state_dict(checkpoint['dqn'])\n",
    "        self.target.load_state_dict(checkpoint['target'])\n",
    "        self.optimizer.load_state_dict(checkpoint['optimizer'])\n",
    "        self.global_steps = checkpoint['global_steps']\n",
    "        self.best_score = checkpoint['best_score']\n",
    "        self.best_steps_done = checkpoint['best_steps_done']\n",
    "        \n",
    "        \n",
    "    def play(self, human=True):\n",
    "        self.env.reset()\n",
    "        state = self.get_initial_state()\n",
    "        steps_done = 0\n",
    "        total_score = 0\n",
    "        \n",
    "        while True:\n",
    "\n",
    "            state = torch.FloatTensor([state]).to(device)\n",
    "            \n",
    "            self.dqn.eval()\n",
    "            action = self.dqn(state).cpu().max(1)[1]\n",
    "\n",
    "            for _ in range(self.frame_skipping):\n",
    "                if human:\n",
    "                    screen = self.env.game.render(mode='human')\n",
    "                _, reward, done, _ = self.env.step(action)\n",
    "\n",
    "                next_state = self.env.get_screen()\n",
    "                self.state_buffer.append(next_state)\n",
    "                state = np.array(self.state_buffer)\n",
    "\n",
    "                total_score += reward\n",
    "\n",
    "                if done:\n",
    "                    break\n",
    "\n",
    "            steps_done += 1\n",
    "            \n",
    "            if done:\n",
    "                self.dqn.train()\n",
    "                break\n",
    "        self.env.game.close()\n",
    "        return total_score, steps_done\n",
    "\n",
    "    def get_initial_state(self):\n",
    "        self.env.reset()\n",
    "        state = self.env.get_screen()\n",
    "        \n",
    "        self.state_buffer = deque(maxlen=self.state_buffer_size)\n",
    "        [self.state_buffer.append(state) for _ in range(self.state_buffer_size)]\n",
    "        return np.array(self.state_buffer)\n",
    "    \n",
    "    def optimize(self):\n",
    "        transitions = self.memory.sample()\n",
    "\n",
    "        states = torch.cat(transitions.state).to(device)\n",
    "        actions = torch.cat(transitions.action).to(device)\n",
    "        rewards = torch.cat(transitions.reward).to(device)\n",
    "        \n",
    "        non_final_mask = torch.tensor(list(map(lambda s: s is not None, transitions.next_state)), \n",
    "                                      device=device, dtype=torch.uint8)\n",
    "        non_final_next_states = torch.cat([s for s in transitions.next_state\n",
    "                                            if s is not None])\n",
    "        \n",
    "        states = states.view([self.batch_size, self.state_buffer_size, self.env.width, self.env.height])\n",
    "        q_values = self.dqn(states).gather(1, actions)\n",
    "        \n",
    "        target_values = torch.zeros(self.batch_size, device=device)\n",
    "        non_final_next_states = non_final_next_states.view([-1, self.state_buffer_size, self.env.width, self.env.height]).to(device)\n",
    "        target_values[non_final_mask] = self.target(non_final_next_states).max(1)[0].detach()\n",
    "        \n",
    "        rewards.data.clamp_(-1, 1)\n",
    "        \n",
    "        expected_state_action_values = (target_values * self.gamma) + rewards\n",
    "        \n",
    "        loss = F.smooth_l1_loss(q_values, expected_state_action_values.unsqueeze(1))\n",
    "        \n",
    "        self.optimizer.zero_grad()\n",
    "        loss.backward()\n",
    "        for param in self.dqn.parameters():\n",
    "            param.grad.data.clamp_(-1, 1)\n",
    "        self.optimizer.step()\n",
    "        \n",
    "        \n",
    "        reward_score = int(torch.sum(rewards).cpu().detach().numpy())\n",
    "        \n",
    "        return loss.cpu().detach().numpy(), reward_score\n",
    "\n",
    "\n",
    "    def action(self, state):\n",
    "        eps = self.epsilon_stop + (self.epsilon_start - self.epsilon_stop) * np.exp(-self.global_steps/self.epsilon_decay)\n",
    "        if np.random.uniform() <= eps:\n",
    "            state = torch.FloatTensor([state]).to(device)\n",
    "            with torch.no_grad():\n",
    "                return self.dqn(state).max(1)[1].view(-1,1).cpu(), eps\n",
    "        else:\n",
    "            sample_action = self.env.game.action_space.sample()\n",
    "            action = torch.LongTensor([[sample_action]])\n",
    "            return action, eps\n",
    "        \n",
    "    def train(self):\n",
    "        \n",
    "        while True:\n",
    "            self.env.reset()\n",
    "            state = self.get_initial_state()\n",
    "            \n",
    "            losses = []\n",
    "            rewards = []\n",
    "            steps_done = 0\n",
    "            eps = self.epsilon_start\n",
    "            \n",
    "            done = False\n",
    "            while not done:\n",
    "                action, e = self.action(state)\n",
    "                eps = e\n",
    "                \n",
    "                for _ in range(self.frame_skipping):\n",
    "                    _, reward, done, _ = self.env.step(action.item())\n",
    "                    next_state = self.env.get_screen()\n",
    "                    self.state_buffer.append(next_state)\n",
    "                    \n",
    "                    if done:\n",
    "                        break\n",
    "            \n",
    "            \n",
    "                next_state = np.array(self.state_buffer)\n",
    "                \n",
    "                if done:\n",
    "                    self.memory.add(state, action, reward, None)\n",
    "                else:\n",
    "                    self.memory.add(state, action, reward, next_state)\n",
    "\n",
    "                state = next_state\n",
    "                \n",
    "                if self.memory.is_ready():\n",
    "                    l, r = self.optimize()\n",
    "                    losses.append(l)\n",
    "                    rewards.append(r)\n",
    "\n",
    "                steps_done += 1\n",
    "                self.global_steps += 1\n",
    "                \n",
    "                # update target network\n",
    "                if self.global_steps % self.target_update_interval == 0:\n",
    "                    print('update target network!')\n",
    "                    self.target.load_state_dict(self.dqn.state_dict())\n",
    "              \n",
    "                # Play\n",
    "                if self.global_steps % self.play_interval == 0:\n",
    "                    scores = []\n",
    "                    total_steps_done = []\n",
    "                    for _ in range(self.play_repeat):\n",
    "                        score, steps_done = self.play(human=True)\n",
    "                        scores.append(score)\n",
    "                        total_steps_done.append(steps_done)\n",
    "                        \n",
    "                    real_score = int(np.mean(scores))\n",
    "                    real_steps_done = int(np.mean(total_steps_done))\n",
    "\n",
    "                    if self.best_steps_done <= real_steps_done:\n",
    "                        self.best_score = real_score\n",
    "                        self.best_steps_done = real_steps_done\n",
    "\n",
    "                        self.save_checkpoint(\n",
    "                            filename=f'dqn_checkpoints/chkpoint_{self.best_steps_done}_{self.best_score}.pth')\n",
    "\n",
    "            if not np.isnan(np.mean(losses)):\n",
    "                print('global_steps:%d, episode_steps:%d, loss:%.6f, rewards:%d, eps:%.6f'%(self.global_steps, steps_done, np.mean(losses), np.mean(rewards), eps))\n",
    "                    "
   ]
  },
  {
   "cell_type": "code",
   "execution_count": 26,
   "metadata": {
    "scrolled": true
   },
   "outputs": [],
   "source": [
    "# training\n",
    "# agent = Agent() \n",
    "# agent.train()"
   ]
  },
  {
   "cell_type": "code",
   "execution_count": 10,
   "metadata": {},
   "outputs": [],
   "source": [
    "# agent.save_checkpoint('dqn_checkpoints/exp_01.pth')"
   ]
  },
  {
   "cell_type": "code",
   "execution_count": 37,
   "metadata": {},
   "outputs": [
    {
     "data": {
      "text/plain": [
       "(15.0, 197)"
      ]
     },
     "execution_count": 37,
     "metadata": {},
     "output_type": "execute_result"
    }
   ],
   "source": [
    "# play\n",
    "agent = Agent()\n",
    "agent.load_checkpoint('dqn_checkpoints/chkpoint_771_76.pth')\n",
    "agent.play(human=True)\n"
   ]
  },
  {
   "cell_type": "code",
   "execution_count": null,
   "metadata": {},
   "outputs": [],
   "source": [
    "# references\n",
    "# https://github.com/AndersonJo/dqn-pytorch/blob/master/dqn.py"
   ]
  }
 ],
 "metadata": {
  "kernelspec": {
   "display_name": "Python 3",
   "language": "python",
   "name": "python3"
  },
  "language_info": {
   "codemirror_mode": {
    "name": "ipython",
    "version": 3
   },
   "file_extension": ".py",
   "mimetype": "text/x-python",
   "name": "python",
   "nbconvert_exporter": "python",
   "pygments_lexer": "ipython3",
   "version": "3.6.7"
  }
 },
 "nbformat": 4,
 "nbformat_minor": 2
}
