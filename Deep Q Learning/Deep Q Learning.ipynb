{
 "cells": [
  {
   "cell_type": "code",
   "execution_count": 1,
   "metadata": {},
   "outputs": [],
   "source": [
    "# install pygame\n",
    "# pip install pygame\n",
    "\n",
    "# install ple\n",
    "# git clone https://github.com/ntasfi/PyGame-Learning-Environment.git\n",
    "# cd PyGame-Learning-Environment/\n",
    "# pip install -e .\n",
    "\n",
    "# install gym_ple\n",
    "# pip install gym_ple"
   ]
  },
  {
   "cell_type": "code",
   "execution_count": 1,
   "metadata": {},
   "outputs": [
    {
     "name": "stdout",
     "output_type": "stream",
     "text": [
      "pygame 1.9.4\n",
      "Hello from the pygame community. https://www.pygame.org/contribute.html\n",
      "couldn't import doomish\n",
      "Couldn't import doom\n"
     ]
    }
   ],
   "source": [
    "%matplotlib inline\n",
    "import time\n",
    " \n",
    "import gym\n",
    "from gym.wrappers import Monitor\n",
    "import gym_ple\n",
    "import matplotlib\n",
    "from matplotlib.pyplot import imshow, show\n",
    "from collections import deque, namedtuple\n",
    "import numpy as np\n",
    "import random\n",
    "from skimage import color, transform\n",
    "\n",
    "import torch\n",
    "import torch.nn as nn\n",
    "import torch.optim as optim\n",
    "import torch.nn.functional as F\n",
    "import torchvision.transforms as T\n",
    "\n",
    "import warnings\n",
    "warnings.filterwarnings('ignore')\n",
    "\n",
    "# set up matplotlib\n",
    "is_ipython = 'inline' in matplotlib.get_backend()\n",
    "if is_ipython:\n",
    "    from IPython import display\n",
    "    \n",
    "# if gpu is to be used\n",
    "device = torch.device(\"cuda\" if torch.cuda.is_available() else \"cpu\")\n",
    "    \n",
    "# env = gym.make('FlappyBird-v0').unwrapped\n"
   ]
  },
  {
   "cell_type": "code",
   "execution_count": 5,
   "metadata": {},
   "outputs": [],
   "source": [
    "class Environment(object):\n",
    "    def __init__(self, game='FlappyBird-v0', record=False, width=84, height=84, seed=0):\n",
    "        self.game = gym.make(game)\n",
    "        self.game.seed(seed)\n",
    "\n",
    "        if record:\n",
    "            self.game = Monitor(self.game, './video', force=True)\n",
    "\n",
    "        self.width = width\n",
    "        self.height = height\n",
    "\n",
    "    def play_sample(self, mode: str = 'human'):\n",
    "        observation = self.game.reset()\n",
    "\n",
    "        while True:\n",
    "            screen = self.game.render(mode=mode)\n",
    "            if mode == 'rgb_array':\n",
    "                screen = self.preprocess(screen)\n",
    "            action = self.game.action_space.sample()\n",
    "            observation, reward, done, info = self.game.step(action)\n",
    "            if done:\n",
    "                break\n",
    "        self.game.close()\n",
    "\n",
    "    def preprocess(self, screen):\n",
    "        preprocessed = screen[:400, 40:]\n",
    "        preprocessed = transform.resize(preprocessed, (self.height, self.width))\n",
    "        preprocessed = color.rgb2gray(preprocessed)\n",
    "        preprocessed = preprocessed.astype('float32') / 255.\n",
    "\n",
    "        return preprocessed\n",
    "\n",
    "    def init(self):\n",
    "        return self.game.reset()\n",
    "\n",
    "    def get_screen(self):\n",
    "        screen = self.game.render('rgb_array')\n",
    "        screen = self.preprocess(screen)\n",
    "        return screen\n",
    "\n",
    "    def step(self, action: int):\n",
    "        observation, reward, done, info = self.game._step(action)\n",
    "        return observation, reward, done, info\n",
    "\n",
    "    def reset(self):\n",
    "        observation = self.game._reset()\n",
    "        observation = self.preprocess(observation)\n",
    "        return observation\n",
    "    \n",
    "    def close(self):\n",
    "        self.game.close()\n",
    "\n",
    "    @property\n",
    "    def action_space(self):\n",
    "        return self.game.action_space.n\n",
    "    \n",
    "    @property\n",
    "    def observation_space(self):\n",
    "        return self.game.observation_space"
   ]
  },
  {
   "cell_type": "code",
   "execution_count": 6,
   "metadata": {},
   "outputs": [
    {
     "data": {
      "text/plain": [
       "(2, Box(512, 288, 3))"
      ]
     },
     "execution_count": 6,
     "metadata": {},
     "output_type": "execute_result"
    }
   ],
   "source": [
    "env = Environment()\n",
    "env.action_space, env.observation_space"
   ]
  },
  {
   "cell_type": "code",
   "execution_count": 4,
   "metadata": {},
   "outputs": [
    {
     "data": {
      "text/plain": [
       "<matplotlib.image.AxesImage at 0x1c267c74a8>"
      ]
     },
     "execution_count": 4,
     "metadata": {},
     "output_type": "execute_result"
    },
    {
     "data": {
      "image/png": "[encoded data removed]",
      "text/plain": [
       "<Figure size 432x288 with 1 Axes>"
      ]
     },
     "metadata": {},
     "output_type": "display_data"
    }
   ],
   "source": [
    "env.init()\n",
    "env.step(1)\n",
    "imshow(env.get_screen())"
   ]
  },
  {
   "cell_type": "code",
   "execution_count": 309,
   "metadata": {},
   "outputs": [],
   "source": [
    "class Memory(object):\n",
    "    def __init__(self, size, batch_size):\n",
    "        self.buffer = deque(maxlen=size)\n",
    "        self.batch_size = batch_size\n",
    "        self.available = False\n",
    "        self.Transition = namedtuple('Transition', ('state', 'action', 'next_state', 'reward', 'done'))\n",
    "        \n",
    "    def add(self, state: np.array, action: torch.LongTensor, reward: np.array, next_state: np.array, done):\n",
    "        state = torch.FloatTensor(state)\n",
    "        reward = torch.FloatTensor([reward])\n",
    "        if next_state is not None:\n",
    "            next_state = torch.FloatTensor(next_state)\n",
    "        transition = self.Transition(state=state, action=action, reward=reward, next_state=next_state, done=done)\n",
    "        self.buffer.append(transition)\n",
    "        \n",
    "    def sample(self):\n",
    "        transitions = sample(self.buffer, self.batch_size)\n",
    "        return self.Transition(*(zip(*transitions)))\n",
    "\n",
    "    def is_ready(self):\n",
    "        if self.available:\n",
    "            return True\n",
    "        else:\n",
    "            self.available = (len(self.buffer_size) > self.batch_size)\n",
    "            return self.available"
   ]
  },
  {
   "cell_type": "code",
   "execution_count": 249,
   "metadata": {},
   "outputs": [],
   "source": [
    "class DQN(nn.Module):\n",
    "    def __init__(self):\n",
    "        super(DQN, self).__init__()\n",
    "        self.conv1 = nn.Sequential(\n",
    "            nn.Conv2d(4, 32, kernel_size=8, stride=4),\n",
    "            nn.BatchNorm2d(32),\n",
    "            nn.ReLU()\n",
    "        )\n",
    "        self.conv2 = nn.Sequential(\n",
    "            nn.Conv2d(32, 64, kernel_size=4, stride=2),\n",
    "            nn.BatchNorm2d(64),\n",
    "            nn.ReLU()\n",
    "        )\n",
    "        self.conv3 = nn.Sequential(\n",
    "            nn.Conv2d(64, 64, kernel_size=3, stride=1),\n",
    "            nn.BatchNorm2d(64),\n",
    "            nn.ReLU()\n",
    "        )\n",
    "        self.fc1 = nn.Sequential(\n",
    "            nn.Linear(3136, 512),\n",
    "            nn.ReLU()\n",
    "        )\n",
    "        self.fc2 = nn.Linear(512, 2)\n",
    "    \n",
    "    def forward(self, x):\n",
    "        x = self.conv1(x)\n",
    "        x = self.conv2(x)\n",
    "        x = self.conv3(x)\n",
    "        x = self.fc1(x.view(x.size(0), -1))\n",
    "        return self.fc2(x)"
   ]
  },
  {
   "cell_type": "code",
   "execution_count": 7,
   "metadata": {
    "scrolled": false
   },
   "outputs": [],
   "source": [
    "# x = torch.zeros([1,4,84,84], device=device)\n",
    "# dqn = DQN().to(device)\n",
    "# pred = dqn.forward(x)\n",
    "# pred"
   ]
  },
  {
   "cell_type": "code",
   "execution_count": 15,
   "metadata": {},
   "outputs": [
    {
     "data": {
      "text/plain": [
       "(3, 3)"
      ]
     },
     "execution_count": 15,
     "metadata": {},
     "output_type": "execute_result"
    }
   ],
   "source": [
    "t = np.array([1,1,1])\n",
    "tt = [t,t,t]\n",
    "np.array(tt).shape"
   ]
  },
  {
   "cell_type": "code",
   "execution_count": 14,
   "metadata": {},
   "outputs": [],
   "source": [
    "class Agent(object):\n",
    "    def __init__(self):\n",
    "        self.env = Environment()\n",
    "        self.dqn = DQN().to(device)\n",
    "        self.target = DQN().to(device)\n",
    "        self.target.load_state_dict(policy_net.state_dict())\n",
    "        self.target.eval()\n",
    "        \n",
    "        self.optimizer = optim.RMSprop(self.dqn.parameters())\n",
    "        \n",
    "        self.memory = Memory(50000)\n",
    "        \n",
    "        self.gamma = 0.9\n",
    "        self.epsilon_start = 0.1\n",
    "        self.epsilon_decay = 0.001\n",
    "        self.epsilon_stop = 0.01\n",
    "        self.batch_size = 32\n",
    "        self.max_step = 1000\n",
    "        \n",
    "        self.transform = T.Compose([T.ToPILImage(),\n",
    "                                       T.Grayscale(),\n",
    "                                       T.Resize((84,84)),\n",
    "                                       T.ToTensor()])\n",
    "        self.frame_skipping = 4\n",
    "        self.state_buffer_size = 4\n",
    "        self.state_buffer = deque(maxlen=self.state_buffer_size)\n",
    "    \n",
    "    def get_initial_state(self):\n",
    "        self.env.reset()\n",
    "        \n",
    "        state = self.env.get_screen()\n",
    "        \n",
    "        self.state_buffer = deque(maxlen=self.state_buffer_size)\n",
    "        self.state_buffer.append([state for _ in range(self.state_buffer_size)])\n",
    "        return np.array(self.state_buffer)\n",
    "    \n",
    "    \n",
    "        \n",
    "        \n",
    "        \n",
    "    \n",
    "#     def stack_frames(self, frame, new_episode= True):\n",
    "#         processed_state = self.preprocess_frame(frame)\n",
    "#         if new_episode:\n",
    "#             for i in range(self.stack_size):\n",
    "#                 self.stacked_frames.append(processed_state)\n",
    "#         else:\n",
    "#             self.stacked_frames.append(processed_state)\n",
    "#         stacked = torch.cat(list(self.stacked_frames), dim=1)\n",
    "#         return stacked \n",
    "\n",
    "    def action(self, state, steps_done):\n",
    "        eps = self.epsilon_stop + (self.epsilon_start - self.epsilon_stop) * np.exp(-self.epsilon_decay * steps_done)\n",
    "        if np.random.uniform() <= eps:\n",
    "            with torch.no_grad():\n",
    "                return self.dqn.forward(state).max(1)[1].cpu(), eps\n",
    "        else:\n",
    "            sample_action = self.env.game.action_space.sample()\n",
    "            action = torch.IntTensor([[sample_action]])\n",
    "            return action, eps\n",
    "        \n",
    "    def train(self):\n",
    "        while True:\n",
    "            self.env.reset()\n",
    "            state = self.get_initial_state()\n",
    "            \n",
    "            done = False\n",
    "            while not done:\n",
    "                action, eps = self.action(state)\n",
    "                \n",
    "                for _ in range(self.frame_skipping):\n",
    "                    _, reward, done, _ = self.env.step(action.item())\n",
    "                    next_state = self.env.get_screen()\n",
    "                    self.state_buffer.append(next_state)\n",
    "                    \n",
    "                    break if done\n",
    "            \n",
    "            \n",
    "                next_state = np.array(self.state_buffer)\n",
    "                \n",
    "                if done:\n",
    "                    self.memory.add(state, action, reward, None, done)\n",
    "                else:\n",
    "                    self.memory.add(state, action, reward, next_state, done)\n",
    "\n",
    "                state = next_state\n",
    "                \n",
    "                \n",
    "                \n",
    "        \n",
    "    def create_memory(self):\n",
    "        frame = self.env.reset()\n",
    "        state = self.stack_frames(frame, True)\n",
    "        rewards = []\n",
    "\n",
    "        done = False\n",
    "        steps_done = 0\n",
    "        while not done or (steps_done >= self.max_step):   \n",
    "            action, eps = self.action(state, steps_done)\n",
    "\n",
    "            next_state, reward, done, _ = self.env.step(action.item())\n",
    "            \n",
    "            rewards.append(reward)\n",
    "            \n",
    "            next_state = self.stack_frames(next_state, False)\n",
    "\n",
    "            self.memory.add(self.transition(state, action, next_state, reward, done))\n",
    "\n",
    "            state = next_state\n",
    "            steps_done += 1\n",
    "\n",
    "            if done:\n",
    "                next_state = torch.zeros_like(state)\n",
    "                self.memory.add(self.transition(state, action, next_state, reward, done))\n",
    "                \n",
    "                print('Steps: {}'.format(steps_done),\n",
    "                    'Total reward: {}'.format(np.sum(rewards)),\n",
    "                      'Explore P: {:.4f}'.format(eps))\n",
    "    \n",
    "    def learn(self):\n",
    "        frame = self.env.reset()\n",
    "        state = self.stack_frames(frame, True)\n",
    "        rewards = []\n",
    "\n",
    "        done = False\n",
    "        steps_done = 0\n",
    "        while not done or (steps_done >= self.max_step):   \n",
    "            action, eps = self.action(state, steps_done)\n",
    "\n",
    "            next_state, reward, done, _ = self.env.step(action.item())\n",
    "            \n",
    "            rewards.append(reward)\n",
    "            \n",
    "            next_state = self.stack_frames(next_state, False)\n",
    "\n",
    "            self.memory.add(self.transition(state, action, next_state, reward, done))\n",
    "\n",
    "            state = next_state\n",
    "            steps_done += 1\n",
    "\n",
    "            if done:\n",
    "                next_state = torch.zeros_like(state)\n",
    "                self.memory.add(self.transition(state, action, next_state, reward, done))\n",
    "                \n",
    "                \n",
    "                print('Steps: {}'.format(steps_done),\n",
    "                    'Total reward: {}'.format(np.sum(rewards)),\n",
    "                      'Explore P: {:.4f}'.format(eps),\n",
    "                        'Loss: {}'.format(loss))\n",
    "        \n",
    "        \n",
    "        ###############\n",
    "        \n",
    "            batch = self.memory.sample(self.batch_size)\n",
    "    #         print(batch)\n",
    "            states_mb = torch.cat([each.state for each in batch])\n",
    "            actions_mb = torch.cat([each.action for each in batch])\n",
    "            next_states_mb = torch.cat([each.next_state for each in batch])\n",
    "            rewards_mb = [each.reward for each in batch]\n",
    "            dones_mb = [each.done for each in batch]\n",
    "\n",
    "            target_Qs_batch = []\n",
    "\n",
    "             # Get Q values for next_state \n",
    "    #         Qs_next_state = sess.run(DQNetwork.output, feed_dict = {DQNetwork.inputs_: next_states_mb})\n",
    "            Qs_next_state = self.dqn.forward(next_states_mb).max(1)[0].detach()\n",
    "    #         print(Qs_next_state.size(), Qs_next_state.max())\n",
    "\n",
    "    #         # Set Q_target = r if the episode ends at s+1, otherwise set Q_target = r + gamma*maxQ(s', a')\n",
    "            for i in range(len(batch)):\n",
    "                terminal = dones_mb[i]\n",
    "\n",
    "                # If we are in a terminal state, only equals reward\n",
    "                if terminal:\n",
    "                    target_Qs_batch.append(rewards_mb[i])\n",
    "\n",
    "                else:\n",
    "                    target = rewards_mb[i] + self.gamma * Qs_next_state[i]\n",
    "                    target_Qs_batch.append(target)\n",
    "\n",
    "            Qs_targets = torch.tensor(target_Qs_batch, device=device)\n",
    "    #         print(actions_mb)\n",
    "            Qs = self.dqn.forward(states_mb).gather(1, actions_mb)\n",
    "    #         print(Qs)\n",
    "    #         print(Qs.size(), Qs_targets.size())\n",
    "            # Compute Huber loss\n",
    "            loss = F.mse_loss(Qs, Qs_targets.unsqueeze(1))\n",
    "#             print(loss.item())\n",
    "\n",
    "    #         # Optimize the model\n",
    "            self.optimizer.zero_grad()\n",
    "            loss.backward()\n",
    "            self.optimizer.step()\n",
    "                \n",
    "    def train(self, num_episodes=10000):\n",
    "        while len(self.memory) <= self.batch_size:\n",
    "            self.create_memory()\n",
    "        \n",
    "        for i in range(num_episodes):\n",
    "#             self.create_memory()\n",
    "            self.learn()\n",
    "            "
   ]
  },
  {
   "cell_type": "code",
   "execution_count": 18,
   "metadata": {
    "scrolled": true
   },
   "outputs": [],
   "source": [
    "# agent_dqn = Agent()\n",
    "# agent_dqn.train()"
   ]
  },
  {
   "cell_type": "code",
   "execution_count": 112,
   "metadata": {},
   "outputs": [
    {
     "data": {
      "text/plain": [
       "71"
      ]
     },
     "execution_count": 112,
     "metadata": {},
     "output_type": "execute_result"
    }
   ],
   "source": [
    "len(agent_dqn.memory.buffer)"
   ]
  },
  {
   "cell_type": "code",
   "execution_count": 150,
   "metadata": {},
   "outputs": [],
   "source": [
    "t = torch.ones((3,3))\n",
    "tt = deque([t,t,t])"
   ]
  },
  {
   "cell_type": "code",
   "execution_count": 179,
   "metadata": {},
   "outputs": [
    {
     "data": {
      "text/plain": [
       "torch.Size([1, 3, 3])"
      ]
     },
     "execution_count": 179,
     "metadata": {},
     "output_type": "execute_result"
    }
   ],
   "source": [
    "t.unsqueeze(0).size()"
   ]
  },
  {
   "cell_type": "code",
   "execution_count": 152,
   "metadata": {},
   "outputs": [
    {
     "data": {
      "text/plain": [
       "tensor([[1., 1., 1.],\n",
       "        [1., 1., 1.],\n",
       "        [1., 1., 1.],\n",
       "        [1., 1., 1.],\n",
       "        [1., 1., 1.],\n",
       "        [1., 1., 1.],\n",
       "        [1., 1., 1.],\n",
       "        [1., 1., 1.],\n",
       "        [1., 1., 1.]])"
      ]
     },
     "execution_count": 152,
     "metadata": {},
     "output_type": "execute_result"
    }
   ],
   "source": [
    "torch.cat(list(tt))"
   ]
  },
  {
   "cell_type": "code",
   "execution_count": 66,
   "metadata": {},
   "outputs": [
    {
     "data": {
      "text/plain": [
       "tensor([[0]], device='cuda:0')"
      ]
     },
     "execution_count": 66,
     "metadata": {},
     "output_type": "execute_result"
    }
   ],
   "source": [
    "import random\n",
    "torch.tensor([[np.random.randint(2)]], device=device, dtype=torch.long)"
   ]
  },
  {
   "cell_type": "code",
   "execution_count": 137,
   "metadata": {},
   "outputs": [
    {
     "data": {
      "text/plain": [
       "tensor([[0., 0., 0.],\n",
       "        [0., 0., 0.],\n",
       "        [0., 0., 0.]])"
      ]
     },
     "execution_count": 137,
     "metadata": {},
     "output_type": "execute_result"
    }
   ],
   "source": [
    "\n",
    "torch.zeros_like(t)"
   ]
  },
  {
   "cell_type": "code",
   "execution_count": 10,
   "metadata": {},
   "outputs": [],
   "source": [
    "state = env.reset()"
   ]
  },
  {
   "cell_type": "code",
   "execution_count": 13,
   "metadata": {},
   "outputs": [
    {
     "data": {
      "text/plain": [
       "<matplotlib.image.AxesImage at 0x2a5e1256828>"
      ]
     },
     "execution_count": 13,
     "metadata": {},
     "output_type": "execute_result"
    },
    {
     "data": {
      "image/png": "[encoded data removed]",
      "text/plain": [
       "<Figure size 432x288 with 1 Axes>"
      ]
     },
     "metadata": {
      "needs_background": "light"
     },
     "output_type": "display_data"
    }
   ],
   "source": [
    "plt.imshow(state)"
   ]
  },
  {
   "cell_type": "code",
   "execution_count": 18,
   "metadata": {},
   "outputs": [],
   "source": [
    "state = env.render(mode='rgb_array')"
   ]
  },
  {
   "cell_type": "code",
   "execution_count": 19,
   "metadata": {},
   "outputs": [
    {
     "data": {
      "text/plain": [
       "<matplotlib.image.AxesImage at 0x2a5e12d82b0>"
      ]
     },
     "execution_count": 19,
     "metadata": {},
     "output_type": "execute_result"
    },
    {
     "data": {
      "image/png": "[encoded data removed]",
      "text/plain": [
       "<Figure size 432x288 with 1 Axes>"
      ]
     },
     "metadata": {
      "needs_background": "light"
     },
     "output_type": "display_data"
    }
   ],
   "source": [
    "plt.imshow(state)"
   ]
  },
  {
   "cell_type": "code",
   "execution_count": 22,
   "metadata": {},
   "outputs": [],
   "source": [
    "next_state = env.step(1)"
   ]
  },
  {
   "cell_type": "code",
   "execution_count": null,
   "metadata": {
    "scrolled": true
   },
   "outputs": [],
   "source": [
    "# next_state"
   ]
  },
  {
   "cell_type": "code",
   "execution_count": 25,
   "metadata": {},
   "outputs": [
    {
     "data": {
      "text/plain": [
       "<matplotlib.image.AxesImage at 0x2a5e137f080>"
      ]
     },
     "execution_count": 25,
     "metadata": {},
     "output_type": "execute_result"
    },
    {
     "data": {
      "image/png": "[encoded data removed]",
      "text/plain": [
       "<Figure size 432x288 with 1 Axes>"
      ]
     },
     "metadata": {
      "needs_background": "light"
     },
     "output_type": "display_data"
    }
   ],
   "source": [
    "plt.imshow(next_state[0])"
   ]
  },
  {
   "cell_type": "code",
   "execution_count": null,
   "metadata": {},
   "outputs": [],
   "source": []
  },
  {
   "cell_type": "code",
   "execution_count": 14,
   "metadata": {},
   "outputs": [
    {
     "data": {
      "image/png": "[encoded data removed]",
      "text/plain": [
       "<Figure size 432x288 with 1 Axes>"
      ]
     },
     "metadata": {
      "needs_background": "light"
     },
     "output_type": "display_data"
    },
    {
     "ename": "KeyboardInterrupt",
     "evalue": "",
     "output_type": "error",
     "traceback": [
      "\u001b[1;31m---------------------------------------------------------------------------\u001b[0m",
      "\u001b[1;31mKeyboardInterrupt\u001b[0m                         Traceback (most recent call last)",
      "\u001b[1;32m<ipython-input-14-94103820c86a>\u001b[0m in \u001b[0;36m<module>\u001b[1;34m\u001b[0m\n\u001b[0;32m     18\u001b[0m         \u001b[0mplt\u001b[0m\u001b[1;33m.\u001b[0m\u001b[0mimshow\u001b[0m\u001b[1;33m(\u001b[0m\u001b[0mob\u001b[0m\u001b[1;33m)\u001b[0m\u001b[1;33m\u001b[0m\u001b[0m\n\u001b[0;32m     19\u001b[0m         \u001b[0mshow\u001b[0m\u001b[1;33m(\u001b[0m\u001b[1;33m)\u001b[0m\u001b[1;33m\u001b[0m\u001b[0m\n\u001b[1;32m---> 20\u001b[1;33m         \u001b[0mtime\u001b[0m\u001b[1;33m.\u001b[0m\u001b[0msleep\u001b[0m\u001b[1;33m(\u001b[0m\u001b[1;36m.1\u001b[0m\u001b[1;33m)\u001b[0m\u001b[1;33m\u001b[0m\u001b[0m\n\u001b[0m\u001b[0;32m     21\u001b[0m \u001b[1;33m\u001b[0m\u001b[0m\n\u001b[0;32m     22\u001b[0m         \u001b[1;32mif\u001b[0m \u001b[0mdone\u001b[0m\u001b[1;33m:\u001b[0m\u001b[1;33m\u001b[0m\u001b[0m\n",
      "\u001b[1;31mKeyboardInterrupt\u001b[0m: "
     ]
    }
   ],
   "source": [
    "env.seed(0)\n",
    "agent = RandomAgent(env.action_space)\n",
    "\n",
    "episode_count = 100\n",
    "reward = 0\n",
    "done = False\n",
    "\n",
    "for i in range(episode_count):\n",
    "    ob = env.reset()\n",
    "\n",
    "    while True:\n",
    "        action = agent.act(ob, reward, done)\n",
    "\n",
    "        ob, reward, done, _ = env.step(action)\n",
    "        \n",
    "#         print(ob)\n",
    "        clear_output(wait=True)\n",
    "        plt.imshow(ob)\n",
    "        show()\n",
    "        time.sleep(.1)\n",
    "        \n",
    "        if done:\n",
    "            break\n",
    "        # Note there's no env.render() here. But the environment still can open window and\n",
    "        # render if asked by env.monitor: it calls env.render('rgb_array') to record video.\n",
    "        # Video is not recorded every episode, see capped_cubic_video_schedule for details.\n"
   ]
  },
  {
   "cell_type": "code",
   "execution_count": null,
   "metadata": {},
   "outputs": [],
   "source": []
  },
  {
   "cell_type": "code",
   "execution_count": null,
   "metadata": {},
   "outputs": [],
   "source": [
    "# references\n",
    "# https://github.com/AndersonJo/dqn-pytorch/blob/master/dqn.py"
   ]
  }
 ],
 "metadata": {
  "kernelspec": {
   "display_name": "Python 3",
   "language": "python",
   "name": "python3"
  },
  "language_info": {
   "codemirror_mode": {
    "name": "ipython",
    "version": 3
   },
   "file_extension": ".py",
   "mimetype": "text/x-python",
   "name": "python",
   "nbconvert_exporter": "python",
   "pygments_lexer": "ipython3",
   "version": "3.6.7"
  }
 },
 "nbformat": 4,
 "nbformat_minor": 2
}
